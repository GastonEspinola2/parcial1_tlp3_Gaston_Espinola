{
 "cells": [
  {
   "cell_type": "markdown",
   "id": "9fee5ee9",
   "metadata": {},
   "source": [
    "# Examen Parcial n°1 2da Parte - TLP3 - Python para Ciencia de Datos.\n"
   ]
  },
  {
   "cell_type": "markdown",
   "id": "999099d0",
   "metadata": {},
   "source": [
    "**A partir del datasets brindado, realizar los siguientes procedimientos:**\n",
    "\n",
    "* Importar datasets con Pandas.\n",
    "* Explorar los datos con los metodos correspondientes. \n",
    "* Limpieza de los datos (Normalización de datos).\n",
    "* Obtener estadisticas.\n",
    "* Mostrar los datos procesados con graficos utilizando la libreria Matplotlib.\n",
    "* Exportar el contenido a un archivo sqlite utilizando PANDAS.\n",
    "\n",
    "\n",
    "**Importante: Se debe documentar cada procedimiento realizado, siguiendo la siguiente estructura:**\n",
    "\n",
    "1. Celda de Markdown (Documentación)\n",
    "2. Código (Sin comentarios, se debe documentar lo sufiente solo en la celda de markdown).\n",
    "\n",
    "\n",
    "### Criterios de Evaluación:\n",
    "\n",
    "1. No esta permitido el uso de IAs durante el examen. (Desactivar Copilot o cualquier herramienta de IA para autocompletar codigo.)\n",
    "\n",
    "2. Se deben utilizar nombres de variables descriptivos y claros (Utilizar la nomeclatura correspondiente para los nombres de variables).\n",
    "\n",
    "3. Comentarios claros y concisos que expliquen el propósito de cada sección del código en una celda de markdown antes del código.\n",
    "\n",
    "4. Utilizar mensajes de commit descriptivos. (Puedes utilizar la extension CONVENTIONAL COMMIT de VS-CODE).\n",
    "\n",
    "5. Entrega en tiempo y forma (Parciales entregados fuera de hora o con commits pasados el horario de entrega quedará invalidado.)\n",
    "\n",
    "6. Todo el código desarrollado debe ser subido a un repositorio en GitHub (el nombre del repositorio de seguir la siguiente estructura: \n",
    "**parcial1_tlp3_nombre_apellido**).\n",
    "\n",
    "7. Para resolver las actividades se debe insertar casillas de codigo entre cada actividad del cuaderno de Jupyter.\n",
    "\n",
    "8. Deben trabajar con el datasets adjunto.\n",
    "\n",
    "9. Una vez finalizado el examen, los resultados deben quedar guardados debajo de cada celda (NO EJECUTAR LA OPCIÓN \"borrar todas las salidas\").\n",
    "\n",
    "**Importante:** Una vez finalizado el examen, marcar como completado en el classroom."
   ]
  },
  {
   "cell_type": "markdown",
   "id": "dd91f969",
   "metadata": {},
   "source": [
    "## Actividades: \n",
    "### 1. Importación del Dataset con Pandas\n",
    "\n",
    "En esta sección, se debe utilizar la librería Pandas para cargar el archivo CSV que contiene los datos de VOTACIONES en un Datasets.\n",
    "\n",
    "\n",
    "### Comentario del desarrollador\n",
    "* En la siguiente seccion se realizara la importacion de pandas (pd) y matplotlib (plt) y se cargara el archivo CSV(votaciones.csv)"
   ]
  },
  {
   "cell_type": "code",
   "execution_count": 184,
   "id": "d873bb2c",
   "metadata": {},
   "outputs": [],
   "source": [
    "import pandas as pd\n",
    "import matplotlib.pyplot as plt\n",
    "\n",
    "df = pd.read_csv(\"votaciones.csv\")"
   ]
  },
  {
   "cell_type": "markdown",
   "id": "93245d0b",
   "metadata": {},
   "source": [
    "\n",
    "### 2. Exploración Inicial de los Datos\n",
    "\n",
    "A continuación, se deben emplear métodos de Pandas para obtener una visión general del dataset. \n",
    "- 2.1: Visualizar las primeras filas y ultimas.\n",
    "- 2.2: Obtener informacion del df con su metodo correspondiente.\n",
    "- 2.3: Hacer un conteo de valores nulos.\n",
    "\n",
    "### Comentarios del desarrollador\n",
    "### Para mostrar las primeras y ultimas filas se utilizara \"head()\" y \"tail()\""
   ]
  },
  {
   "cell_type": "code",
   "execution_count": 185,
   "id": "83cd9f19",
   "metadata": {},
   "outputs": [
    {
     "name": "stdout",
     "output_type": "stream",
     "text": [
      "Primeras 5 filas del archivo\n",
      "    nombre apellido         dni     provincia  voto fecha_votacion\n",
      "0  pánfilo    pombo  34787190.0  buenos aires  nulo     2024-11-22\n",
      "1   albina  heredia  48336819.0      santa fe  nulo     2024-04-24\n",
      "2      NaN   solano  49179364.0       neuquen  nulo     2024-05-20\n",
      "3   salomé   barrio  43725639.0  buenos aires   NaN     05-06-2024\n",
      "4   matías  esteban  30599927.0         chaco    no     10-07-2023\n",
      "--------------------------------------------------\n",
      "Ultimas 5 filas\n",
      "       nombre apellido         dni provincia  voto fecha_votacion\n",
      "96      carla    vidal  15161718.0  misiones  nulo     2023-09-12\n",
      "97   federico  barrios  16171819.0   neuquen    no     11-09-2023\n",
      "98      belen     vera  17181920.0   tucuman    sí     2023-09-10\n",
      "99    gustavo    gauna  18192021.0  santa fe  nulo     09-09-2023\n",
      "100     rocio    avila  19202122.0   formosa    no     08-09-2023\n"
     ]
    }
   ],
   "source": [
    "print(\"Primeras 5 filas del archivo\")\n",
    "print(df.head())\n",
    "print(50*\"-\")\n",
    "\n",
    "print(\"Ultimas 5 filas\")\n",
    "print(df.tail())"
   ]
  },
  {
   "cell_type": "markdown",
   "id": "d1062741",
   "metadata": {},
   "source": [
    "### La informacion del DataFrame se realizara utilizando el metodo \"info()\""
   ]
  },
  {
   "cell_type": "code",
   "execution_count": 186,
   "id": "7a96acd5",
   "metadata": {},
   "outputs": [
    {
     "name": "stdout",
     "output_type": "stream",
     "text": [
      "Informacion del DataFrame\n",
      "<class 'pandas.core.frame.DataFrame'>\n",
      "RangeIndex: 101 entries, 0 to 100\n",
      "Data columns (total 6 columns):\n",
      " #   Column          Non-Null Count  Dtype  \n",
      "---  ------          --------------  -----  \n",
      " 0   nombre          91 non-null     object \n",
      " 1   apellido        94 non-null     object \n",
      " 2   dni             90 non-null     float64\n",
      " 3   provincia       95 non-null     object \n",
      " 4   voto            96 non-null     object \n",
      " 5   fecha_votacion  95 non-null     object \n",
      "dtypes: float64(1), object(5)\n",
      "memory usage: 4.9+ KB\n",
      "None\n"
     ]
    }
   ],
   "source": [
    "print(\"Informacion del DataFrame\")\n",
    "print(df.info())"
   ]
  },
  {
   "cell_type": "markdown",
   "id": "876ad9f4",
   "metadata": {},
   "source": [
    "### Y los valores nulos se mostrara mediante el \"isnull()\" y se hara un conteo de cuantos existen agregandole \".sum()\""
   ]
  },
  {
   "cell_type": "code",
   "execution_count": 187,
   "id": "6c598c72",
   "metadata": {},
   "outputs": [
    {
     "name": "stdout",
     "output_type": "stream",
     "text": [
      "Valores nulos\n",
      "nombre            10\n",
      "apellido           7\n",
      "dni               11\n",
      "provincia          6\n",
      "voto               5\n",
      "fecha_votacion     6\n",
      "dtype: int64\n"
     ]
    }
   ],
   "source": [
    "print(\"Valores nulos\")\n",
    "print(df.isnull().sum())"
   ]
  },
  {
   "cell_type": "markdown",
   "id": "5e609503",
   "metadata": {},
   "source": [
    "\n",
    "### 3. Limpieza y Normalización de los Datos\n",
    "\n",
    "- 3.1. Esta etapa crucial deben aplicar la corrección de diversos errores presentes en el dataset. Se abordarán los valores faltantes (Deben aplicar los metodos que ustedes crean convenientes **(Solo 1)**, por ejemplo: Eliminación de filas, cubrir valores con media, mediana, etc.)\n",
    "- 3.2: La columna Fecha deberan pasarla al tipo datetime con su metodo correspondiente.\n",
    "- 3.3: Corregir las mayusculas en el caso de Nombre y Apellido (Si es que corresponde.)\n",
    "- 3.4: En el caso de los votos, aplicar mayusculas a cada fila.\n",
    "- 3.5 EL campo DNI debe ser del tipo INT.\n",
    "\n",
    "### Comentarios del desarrollador\n",
    "### Para normalizar los datos de tiempo se utilizara las Series para agrupar la fecha_votacion y luego el metodo to_datatime para cambiarlo"
   ]
  },
  {
   "cell_type": "code",
   "execution_count": 188,
   "id": "c865930a",
   "metadata": {},
   "outputs": [
    {
     "data": {
      "text/plain": [
       "0     2024-11-22\n",
       "1     2024-04-24\n",
       "2     2024-05-20\n",
       "3     2024-06-05\n",
       "4     2023-07-10\n",
       "         ...    \n",
       "96    2023-09-12\n",
       "97    2023-09-11\n",
       "98    2023-09-10\n",
       "99    2023-09-09\n",
       "100   2023-09-08\n",
       "Name: fecha_votacion, Length: 101, dtype: datetime64[ns]"
      ]
     },
     "execution_count": 188,
     "metadata": {},
     "output_type": "execute_result"
    }
   ],
   "source": [
    "serie_fecha = pd.Series(df[\"fecha_votacion\"])\n",
    "serie_fecha\n",
    "\n",
    "serie_fecha1 = pd.to_datetime(serie_fecha, format=\"%Y-%m-%d\", errors=\"coerce\")\n",
    "serie_fecha2 = pd.to_datetime(serie_fecha, format=\"%d-%m-%Y\", errors=\"coerce\")\n",
    "\n",
    "serie_fecha_final = serie_fecha1.combine_first(serie_fecha2)\n",
    "serie_fecha_final"
   ]
  },
  {
   "cell_type": "code",
   "execution_count": 189,
   "id": "9e98b217",
   "metadata": {},
   "outputs": [
    {
     "name": "stdout",
     "output_type": "stream",
     "text": [
      "<class 'pandas.core.frame.DataFrame'>\n",
      "RangeIndex: 101 entries, 0 to 100\n",
      "Data columns (total 6 columns):\n",
      " #   Column          Non-Null Count  Dtype         \n",
      "---  ------          --------------  -----         \n",
      " 0   nombre          91 non-null     object        \n",
      " 1   apellido        94 non-null     object        \n",
      " 2   dni             90 non-null     float64       \n",
      " 3   provincia       95 non-null     object        \n",
      " 4   voto            96 non-null     object        \n",
      " 5   fecha_votacion  95 non-null     datetime64[ns]\n",
      "dtypes: datetime64[ns](1), float64(1), object(4)\n",
      "memory usage: 4.9+ KB\n"
     ]
    }
   ],
   "source": [
    "df[\"fecha_votacion\"] = serie_fecha_final\n",
    "df.info()"
   ]
  },
  {
   "cell_type": "markdown",
   "id": "9feae007",
   "metadata": {},
   "source": [
    "### Para normalizar los nombres y apellidos se utilizara el metodo \"str.tittle()\" para las mayusculas y \"str.strip()\" para los espacios\n"
   ]
  },
  {
   "cell_type": "code",
   "execution_count": 190,
   "id": "391214ae",
   "metadata": {},
   "outputs": [
    {
     "data": {
      "text/html": [
       "<div>\n",
       "<style scoped>\n",
       "    .dataframe tbody tr th:only-of-type {\n",
       "        vertical-align: middle;\n",
       "    }\n",
       "\n",
       "    .dataframe tbody tr th {\n",
       "        vertical-align: top;\n",
       "    }\n",
       "\n",
       "    .dataframe thead th {\n",
       "        text-align: right;\n",
       "    }\n",
       "</style>\n",
       "<table border=\"1\" class=\"dataframe\">\n",
       "  <thead>\n",
       "    <tr style=\"text-align: right;\">\n",
       "      <th></th>\n",
       "      <th>nombre</th>\n",
       "      <th>apellido</th>\n",
       "      <th>dni</th>\n",
       "      <th>provincia</th>\n",
       "      <th>voto</th>\n",
       "      <th>fecha_votacion</th>\n",
       "    </tr>\n",
       "  </thead>\n",
       "  <tbody>\n",
       "    <tr>\n",
       "      <th>0</th>\n",
       "      <td>Pánfilo</td>\n",
       "      <td>Pombo</td>\n",
       "      <td>34787190.0</td>\n",
       "      <td>buenos aires</td>\n",
       "      <td>nulo</td>\n",
       "      <td>2024-11-22</td>\n",
       "    </tr>\n",
       "    <tr>\n",
       "      <th>1</th>\n",
       "      <td>Albina</td>\n",
       "      <td>Heredia</td>\n",
       "      <td>48336819.0</td>\n",
       "      <td>santa fe</td>\n",
       "      <td>nulo</td>\n",
       "      <td>2024-04-24</td>\n",
       "    </tr>\n",
       "    <tr>\n",
       "      <th>2</th>\n",
       "      <td>NaN</td>\n",
       "      <td>Solano</td>\n",
       "      <td>49179364.0</td>\n",
       "      <td>neuquen</td>\n",
       "      <td>nulo</td>\n",
       "      <td>2024-05-20</td>\n",
       "    </tr>\n",
       "    <tr>\n",
       "      <th>3</th>\n",
       "      <td>Salomé</td>\n",
       "      <td>Barrio</td>\n",
       "      <td>43725639.0</td>\n",
       "      <td>buenos aires</td>\n",
       "      <td>NaN</td>\n",
       "      <td>2024-06-05</td>\n",
       "    </tr>\n",
       "    <tr>\n",
       "      <th>4</th>\n",
       "      <td>Matías</td>\n",
       "      <td>Esteban</td>\n",
       "      <td>30599927.0</td>\n",
       "      <td>chaco</td>\n",
       "      <td>no</td>\n",
       "      <td>2023-07-10</td>\n",
       "    </tr>\n",
       "    <tr>\n",
       "      <th>5</th>\n",
       "      <td>NaN</td>\n",
       "      <td>Sosa</td>\n",
       "      <td>17014535.0</td>\n",
       "      <td>santa fe</td>\n",
       "      <td>sí</td>\n",
       "      <td>2024-11-02</td>\n",
       "    </tr>\n",
       "    <tr>\n",
       "      <th>6</th>\n",
       "      <td>Gervasio</td>\n",
       "      <td>Bou</td>\n",
       "      <td>33761658.0</td>\n",
       "      <td>mendoza</td>\n",
       "      <td>no</td>\n",
       "      <td>2023-09-23</td>\n",
       "    </tr>\n",
       "    <tr>\n",
       "      <th>7</th>\n",
       "      <td>Brígida</td>\n",
       "      <td>Angulo</td>\n",
       "      <td>22169546.0</td>\n",
       "      <td>chaco</td>\n",
       "      <td>no</td>\n",
       "      <td>2024-05-02</td>\n",
       "    </tr>\n",
       "    <tr>\n",
       "      <th>8</th>\n",
       "      <td>Glauco</td>\n",
       "      <td>Fabra</td>\n",
       "      <td>NaN</td>\n",
       "      <td>cordoba</td>\n",
       "      <td>sí</td>\n",
       "      <td>2023-06-07</td>\n",
       "    </tr>\n",
       "    <tr>\n",
       "      <th>9</th>\n",
       "      <td>Trinidad</td>\n",
       "      <td>Company</td>\n",
       "      <td>12192872.0</td>\n",
       "      <td>neuquen</td>\n",
       "      <td>nulo</td>\n",
       "      <td>2024-10-30</td>\n",
       "    </tr>\n",
       "  </tbody>\n",
       "</table>\n",
       "</div>"
      ],
      "text/plain": [
       "     nombre apellido         dni     provincia  voto fecha_votacion\n",
       "0   Pánfilo    Pombo  34787190.0  buenos aires  nulo     2024-11-22\n",
       "1    Albina  Heredia  48336819.0      santa fe  nulo     2024-04-24\n",
       "2       NaN   Solano  49179364.0       neuquen  nulo     2024-05-20\n",
       "3    Salomé   Barrio  43725639.0  buenos aires   NaN     2024-06-05\n",
       "4    Matías  Esteban  30599927.0         chaco    no     2023-07-10\n",
       "5       NaN     Sosa  17014535.0      santa fe    sí     2024-11-02\n",
       "6  Gervasio      Bou  33761658.0       mendoza    no     2023-09-23\n",
       "7   Brígida   Angulo  22169546.0         chaco    no     2024-05-02\n",
       "8    Glauco    Fabra         NaN       cordoba    sí     2023-06-07\n",
       "9  Trinidad  Company  12192872.0       neuquen  nulo     2024-10-30"
      ]
     },
     "execution_count": 190,
     "metadata": {},
     "output_type": "execute_result"
    }
   ],
   "source": [
    "df[\"nombre\"] = df[\"nombre\"].str.title().str.strip()\n",
    "df[\"apellido\"] = df[\"apellido\"].str.title().str.strip()\n",
    "df.head(10)"
   ]
  },
  {
   "cell_type": "markdown",
   "id": "9cf4b2f8",
   "metadata": {},
   "source": [
    "### Para normalizar el voto se utilizara el metodo \"str.upper()\" para que se pasen a mayuscula\n"
   ]
  },
  {
   "cell_type": "code",
   "execution_count": 191,
   "id": "6bae411d",
   "metadata": {},
   "outputs": [
    {
     "data": {
      "text/html": [
       "<div>\n",
       "<style scoped>\n",
       "    .dataframe tbody tr th:only-of-type {\n",
       "        vertical-align: middle;\n",
       "    }\n",
       "\n",
       "    .dataframe tbody tr th {\n",
       "        vertical-align: top;\n",
       "    }\n",
       "\n",
       "    .dataframe thead th {\n",
       "        text-align: right;\n",
       "    }\n",
       "</style>\n",
       "<table border=\"1\" class=\"dataframe\">\n",
       "  <thead>\n",
       "    <tr style=\"text-align: right;\">\n",
       "      <th></th>\n",
       "      <th>nombre</th>\n",
       "      <th>apellido</th>\n",
       "      <th>dni</th>\n",
       "      <th>provincia</th>\n",
       "      <th>voto</th>\n",
       "      <th>fecha_votacion</th>\n",
       "    </tr>\n",
       "  </thead>\n",
       "  <tbody>\n",
       "    <tr>\n",
       "      <th>0</th>\n",
       "      <td>Pánfilo</td>\n",
       "      <td>Pombo</td>\n",
       "      <td>34787190.0</td>\n",
       "      <td>buenos aires</td>\n",
       "      <td>NULO</td>\n",
       "      <td>2024-11-22</td>\n",
       "    </tr>\n",
       "    <tr>\n",
       "      <th>1</th>\n",
       "      <td>Albina</td>\n",
       "      <td>Heredia</td>\n",
       "      <td>48336819.0</td>\n",
       "      <td>santa fe</td>\n",
       "      <td>NULO</td>\n",
       "      <td>2024-04-24</td>\n",
       "    </tr>\n",
       "    <tr>\n",
       "      <th>2</th>\n",
       "      <td>NaN</td>\n",
       "      <td>Solano</td>\n",
       "      <td>49179364.0</td>\n",
       "      <td>neuquen</td>\n",
       "      <td>NULO</td>\n",
       "      <td>2024-05-20</td>\n",
       "    </tr>\n",
       "    <tr>\n",
       "      <th>3</th>\n",
       "      <td>Salomé</td>\n",
       "      <td>Barrio</td>\n",
       "      <td>43725639.0</td>\n",
       "      <td>buenos aires</td>\n",
       "      <td>NaN</td>\n",
       "      <td>2024-06-05</td>\n",
       "    </tr>\n",
       "    <tr>\n",
       "      <th>4</th>\n",
       "      <td>Matías</td>\n",
       "      <td>Esteban</td>\n",
       "      <td>30599927.0</td>\n",
       "      <td>chaco</td>\n",
       "      <td>NO</td>\n",
       "      <td>2023-07-10</td>\n",
       "    </tr>\n",
       "  </tbody>\n",
       "</table>\n",
       "</div>"
      ],
      "text/plain": [
       "    nombre apellido         dni     provincia  voto fecha_votacion\n",
       "0  Pánfilo    Pombo  34787190.0  buenos aires  NULO     2024-11-22\n",
       "1   Albina  Heredia  48336819.0      santa fe  NULO     2024-04-24\n",
       "2      NaN   Solano  49179364.0       neuquen  NULO     2024-05-20\n",
       "3   Salomé   Barrio  43725639.0  buenos aires   NaN     2024-06-05\n",
       "4   Matías  Esteban  30599927.0         chaco    NO     2023-07-10"
      ]
     },
     "execution_count": 191,
     "metadata": {},
     "output_type": "execute_result"
    }
   ],
   "source": [
    "df[\"voto\"] = df[\"voto\"].str.upper()\n",
    "df.head()"
   ]
  },
  {
   "cell_type": "markdown",
   "id": "c2243ced",
   "metadata": {},
   "source": [
    "### Para normalizar el dni se utilizara el metodo \"astype(\"int64\")\" para pasarlo a entero\n"
   ]
  },
  {
   "cell_type": "code",
   "execution_count": 192,
   "id": "b2ffe43c",
   "metadata": {},
   "outputs": [
    {
     "name": "stdout",
     "output_type": "stream",
     "text": [
      "<class 'pandas.core.frame.DataFrame'>\n",
      "RangeIndex: 101 entries, 0 to 100\n",
      "Data columns (total 6 columns):\n",
      " #   Column          Non-Null Count  Dtype         \n",
      "---  ------          --------------  -----         \n",
      " 0   nombre          91 non-null     object        \n",
      " 1   apellido        94 non-null     object        \n",
      " 2   dni             90 non-null     Int64         \n",
      " 3   provincia       95 non-null     object        \n",
      " 4   voto            96 non-null     object        \n",
      " 5   fecha_votacion  95 non-null     datetime64[ns]\n",
      "dtypes: Int64(1), datetime64[ns](1), object(4)\n",
      "memory usage: 5.0+ KB\n"
     ]
    }
   ],
   "source": [
    "df[\"dni\"] = df[\"dni\"].astype(\"Int64\")\n",
    "df.info()"
   ]
  },
  {
   "cell_type": "markdown",
   "id": "2e5d8dcf",
   "metadata": {},
   "source": [
    "\n",
    "### 4. Obtención de Estadísticas Descriptivas\n",
    "\n",
    "Después de la limpieza, deben hacer lo siguiente: \n",
    "\n",
    "- 4.1: calcular nuevamente las estadísticas descriptivas para observar el impacto del proceso de limpieza en los datos numéricos.\n",
    "- 4.2: Calcular estadísticas específicas por grupo (Agrupar dos columnas).\n",
    "\n",
    "### Comentario del desarrollador\n",
    "### Para ver la estadistica descriptiva se utilizara el metodo \".describe()\" y \".round(2)\" para redondear el resultado"
   ]
  },
  {
   "cell_type": "code",
   "execution_count": 193,
   "id": "f513d717",
   "metadata": {},
   "outputs": [
    {
     "data": {
      "text/html": [
       "<div>\n",
       "<style scoped>\n",
       "    .dataframe tbody tr th:only-of-type {\n",
       "        vertical-align: middle;\n",
       "    }\n",
       "\n",
       "    .dataframe tbody tr th {\n",
       "        vertical-align: top;\n",
       "    }\n",
       "\n",
       "    .dataframe thead th {\n",
       "        text-align: right;\n",
       "    }\n",
       "</style>\n",
       "<table border=\"1\" class=\"dataframe\">\n",
       "  <thead>\n",
       "    <tr style=\"text-align: right;\">\n",
       "      <th></th>\n",
       "      <th>dni</th>\n",
       "      <th>fecha_votacion</th>\n",
       "    </tr>\n",
       "  </thead>\n",
       "  <tbody>\n",
       "    <tr>\n",
       "      <th>count</th>\n",
       "      <td>90.0</td>\n",
       "      <td>95</td>\n",
       "    </tr>\n",
       "    <tr>\n",
       "      <th>mean</th>\n",
       "      <td>38649101.38</td>\n",
       "      <td>2024-01-15 20:27:47.368421120</td>\n",
       "    </tr>\n",
       "    <tr>\n",
       "      <th>min</th>\n",
       "      <td>10111213.0</td>\n",
       "      <td>2023-05-13 00:00:00</td>\n",
       "    </tr>\n",
       "    <tr>\n",
       "      <th>25%</th>\n",
       "      <td>19821665.25</td>\n",
       "      <td>2023-09-24 00:00:00</td>\n",
       "    </tr>\n",
       "    <tr>\n",
       "      <th>50%</th>\n",
       "      <td>33193093.0</td>\n",
       "      <td>2023-10-09 00:00:00</td>\n",
       "    </tr>\n",
       "    <tr>\n",
       "      <th>75%</th>\n",
       "      <td>48867378.0</td>\n",
       "      <td>2024-05-03 12:00:00</td>\n",
       "    </tr>\n",
       "    <tr>\n",
       "      <th>max</th>\n",
       "      <td>99001122.0</td>\n",
       "      <td>2025-04-26 00:00:00</td>\n",
       "    </tr>\n",
       "    <tr>\n",
       "      <th>std</th>\n",
       "      <td>24001977.99</td>\n",
       "      <td>NaN</td>\n",
       "    </tr>\n",
       "  </tbody>\n",
       "</table>\n",
       "</div>"
      ],
      "text/plain": [
       "               dni                 fecha_votacion\n",
       "count         90.0                             95\n",
       "mean   38649101.38  2024-01-15 20:27:47.368421120\n",
       "min     10111213.0            2023-05-13 00:00:00\n",
       "25%    19821665.25            2023-09-24 00:00:00\n",
       "50%     33193093.0            2023-10-09 00:00:00\n",
       "75%     48867378.0            2024-05-03 12:00:00\n",
       "max     99001122.0            2025-04-26 00:00:00\n",
       "std    24001977.99                            NaN"
      ]
     },
     "execution_count": 193,
     "metadata": {},
     "output_type": "execute_result"
    }
   ],
   "source": [
    "df.describe().round(2)"
   ]
  },
  {
   "cell_type": "markdown",
   "id": "c6e2164c",
   "metadata": {},
   "source": [
    "\n",
    "### 5. Visualización de los Datos con Matplotlib\n",
    "\n",
    "En esta sección, deben utilizar la librería Matplotlib para crear **UNA** visualización que permitan comprender mejor los datos de ventas.El grafico es a elección, puede crear **UNO** de los siguientes: histogramas, diagramas de dispersión, gráficos de barras y graficos de torta.\n",
    "\n",
    "### Comentario del desarrollador\n",
    "* Para realizar el grafico se agrupara las provincias y votos mediante el groupby\n",
    "* Con el metodo \"size()\" se contara la cantidad de filas hay por grupo\n",
    "* Con el metodo \".unstack()\" se convertiran los tipos de votos en columnas\n",
    "* Con el metodo \"fill_value = 0\" se rellenara con 0 donde no hubo votos de un tipo\n",
    "* El grafico que se realizara es el de barras, porque lo considero optimo para mostrar estos 2 tipos de datos."
   ]
  },
  {
   "cell_type": "code",
   "execution_count": 194,
   "id": "dfdccfb8",
   "metadata": {},
   "outputs": [
    {
     "data": {
      "image/png": "[encoded data removed]",
      "text/plain": [
       "<Figure size 640x480 with 1 Axes>"
      ]
     },
     "metadata": {},
     "output_type": "display_data"
    }
   ],
   "source": [
    "conteo = df.groupby([\"provincia\",\"voto\"]).size().unstack(fill_value=0)\n",
    "\n",
    "conteo.plot(kind=\"bar\")\n",
    "\n",
    "plt.title(\"Cantidad de tipos de votos por provincia\")\n",
    "plt.xlabel(\"Provincias\")\n",
    "plt.ylabel(\"Cantidad de votos\")\n",
    "plt.xticks(rotation=50)\n",
    "plt.grid()\n",
    "plt.show()"
   ]
  },
  {
   "cell_type": "markdown",
   "id": "dff750c9",
   "metadata": {},
   "source": [
    "\n",
    "### 6. Exportación a Archivo SQLite\n",
    "\n",
    "Finalmente, deben utilizar la funcionalidad de Pandas para guardar el DataFrame procesado en una base de datos SQLite. Deben hacer una conexión y hacer una consulta para ver si los datos fueron cargados correctamente.\n",
    "\n",
    "### Comentarios del desarrollador\n",
    "* Para exportar el archivo a SQLite se creara la conn (el cual creara el archivo donde quiero enviarlo)\n",
    "* mediante \"df.to_sql\" se convertira el archivo CSV a SQL"
   ]
  },
  {
   "cell_type": "code",
   "execution_count": 196,
   "id": "811803b4",
   "metadata": {},
   "outputs": [],
   "source": [
    "import sqlite3\n",
    "conn = sqlite3.connect(\"votaciones.sqlite\")\n",
    "df.to_sql(\"resultadoVotaciones\", conn, if_exists=\"replace\",index=False)\n",
    "conn.close()"
   ]
  },
  {
   "cell_type": "code",
   "execution_count": 201,
   "id": "7458cf6a",
   "metadata": {},
   "outputs": [
    {
     "data": {
      "text/html": [
       "<div>\n",
       "<style scoped>\n",
       "    .dataframe tbody tr th:only-of-type {\n",
       "        vertical-align: middle;\n",
       "    }\n",
       "\n",
       "    .dataframe tbody tr th {\n",
       "        vertical-align: top;\n",
       "    }\n",
       "\n",
       "    .dataframe thead th {\n",
       "        text-align: right;\n",
       "    }\n",
       "</style>\n",
       "<table border=\"1\" class=\"dataframe\">\n",
       "  <thead>\n",
       "    <tr style=\"text-align: right;\">\n",
       "      <th></th>\n",
       "      <th>nombre</th>\n",
       "      <th>apellido</th>\n",
       "      <th>dni</th>\n",
       "      <th>provincia</th>\n",
       "      <th>voto</th>\n",
       "      <th>fecha_votacion</th>\n",
       "    </tr>\n",
       "  </thead>\n",
       "  <tbody>\n",
       "    <tr>\n",
       "      <th>0</th>\n",
       "      <td>Pánfilo</td>\n",
       "      <td>Pombo</td>\n",
       "      <td>34787190.0</td>\n",
       "      <td>buenos aires</td>\n",
       "      <td>NULO</td>\n",
       "      <td>2024-11-22 00:00:00</td>\n",
       "    </tr>\n",
       "    <tr>\n",
       "      <th>1</th>\n",
       "      <td>Albina</td>\n",
       "      <td>Heredia</td>\n",
       "      <td>48336819.0</td>\n",
       "      <td>santa fe</td>\n",
       "      <td>NULO</td>\n",
       "      <td>2024-04-24 00:00:00</td>\n",
       "    </tr>\n",
       "    <tr>\n",
       "      <th>2</th>\n",
       "      <td>None</td>\n",
       "      <td>Solano</td>\n",
       "      <td>49179364.0</td>\n",
       "      <td>neuquen</td>\n",
       "      <td>NULO</td>\n",
       "      <td>2024-05-20 00:00:00</td>\n",
       "    </tr>\n",
       "    <tr>\n",
       "      <th>3</th>\n",
       "      <td>Salomé</td>\n",
       "      <td>Barrio</td>\n",
       "      <td>43725639.0</td>\n",
       "      <td>buenos aires</td>\n",
       "      <td>None</td>\n",
       "      <td>2024-06-05 00:00:00</td>\n",
       "    </tr>\n",
       "    <tr>\n",
       "      <th>4</th>\n",
       "      <td>Matías</td>\n",
       "      <td>Esteban</td>\n",
       "      <td>30599927.0</td>\n",
       "      <td>chaco</td>\n",
       "      <td>NO</td>\n",
       "      <td>2023-07-10 00:00:00</td>\n",
       "    </tr>\n",
       "    <tr>\n",
       "      <th>...</th>\n",
       "      <td>...</td>\n",
       "      <td>...</td>\n",
       "      <td>...</td>\n",
       "      <td>...</td>\n",
       "      <td>...</td>\n",
       "      <td>...</td>\n",
       "    </tr>\n",
       "    <tr>\n",
       "      <th>96</th>\n",
       "      <td>Carla</td>\n",
       "      <td>Vidal</td>\n",
       "      <td>15161718.0</td>\n",
       "      <td>misiones</td>\n",
       "      <td>NULO</td>\n",
       "      <td>2023-09-12 00:00:00</td>\n",
       "    </tr>\n",
       "    <tr>\n",
       "      <th>97</th>\n",
       "      <td>Federico</td>\n",
       "      <td>Barrios</td>\n",
       "      <td>16171819.0</td>\n",
       "      <td>neuquen</td>\n",
       "      <td>NO</td>\n",
       "      <td>2023-09-11 00:00:00</td>\n",
       "    </tr>\n",
       "    <tr>\n",
       "      <th>98</th>\n",
       "      <td>Belen</td>\n",
       "      <td>Vera</td>\n",
       "      <td>17181920.0</td>\n",
       "      <td>tucuman</td>\n",
       "      <td>SÍ</td>\n",
       "      <td>2023-09-10 00:00:00</td>\n",
       "    </tr>\n",
       "    <tr>\n",
       "      <th>99</th>\n",
       "      <td>Gustavo</td>\n",
       "      <td>Gauna</td>\n",
       "      <td>18192021.0</td>\n",
       "      <td>santa fe</td>\n",
       "      <td>NULO</td>\n",
       "      <td>2023-09-09 00:00:00</td>\n",
       "    </tr>\n",
       "    <tr>\n",
       "      <th>100</th>\n",
       "      <td>Rocio</td>\n",
       "      <td>Avila</td>\n",
       "      <td>19202122.0</td>\n",
       "      <td>formosa</td>\n",
       "      <td>NO</td>\n",
       "      <td>2023-09-08 00:00:00</td>\n",
       "    </tr>\n",
       "  </tbody>\n",
       "</table>\n",
       "<p>101 rows × 6 columns</p>\n",
       "</div>"
      ],
      "text/plain": [
       "       nombre apellido         dni     provincia  voto       fecha_votacion\n",
       "0     Pánfilo    Pombo  34787190.0  buenos aires  NULO  2024-11-22 00:00:00\n",
       "1      Albina  Heredia  48336819.0      santa fe  NULO  2024-04-24 00:00:00\n",
       "2        None   Solano  49179364.0       neuquen  NULO  2024-05-20 00:00:00\n",
       "3      Salomé   Barrio  43725639.0  buenos aires  None  2024-06-05 00:00:00\n",
       "4      Matías  Esteban  30599927.0         chaco    NO  2023-07-10 00:00:00\n",
       "..        ...      ...         ...           ...   ...                  ...\n",
       "96      Carla    Vidal  15161718.0      misiones  NULO  2023-09-12 00:00:00\n",
       "97   Federico  Barrios  16171819.0       neuquen    NO  2023-09-11 00:00:00\n",
       "98      Belen     Vera  17181920.0       tucuman    SÍ  2023-09-10 00:00:00\n",
       "99    Gustavo    Gauna  18192021.0      santa fe  NULO  2023-09-09 00:00:00\n",
       "100     Rocio    Avila  19202122.0       formosa    NO  2023-09-08 00:00:00\n",
       "\n",
       "[101 rows x 6 columns]"
      ]
     },
     "execution_count": 201,
     "metadata": {},
     "output_type": "execute_result"
    }
   ],
   "source": [
    "conexion = sqlite3.connect(\"votaciones.sqlite\")\n",
    "\n",
    "df_nuevo = pd.read_sql_query(\"SELECT * FROM resultadoVotaciones\", conexion)\n",
    "df_nuevo"
   ]
  }
 ],
 "metadata": {
  "kernelspec": {
   "display_name": "env",
   "language": "python",
   "name": "python3"
  },
  "language_info": {
   "codemirror_mode": {
    "name": "ipython",
    "version": 3
   },
   "file_extension": ".py",
   "mimetype": "text/x-python",
   "name": "python",
   "nbconvert_exporter": "python",
   "pygments_lexer": "ipython3",
   "version": "3.13.2"
  }
 },
 "nbformat": 4,
 "nbformat_minor": 5
}
